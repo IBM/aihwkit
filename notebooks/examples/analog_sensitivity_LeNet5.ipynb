{
 "cells": [
  {
   "cell_type": "markdown",
   "id": "598e24ac",
   "metadata": {
    "slideshow": {
     "slide_type": "slide"
    }
   },
   "source": [
    "# Experiments with `aihwkit`\n",
    "## Exploring the sensitivity of analog inference, analog-aware retraining and in-analog training to the non-idealities of Analog Crossbars\n",
    "\n",
    "In-memory computing uses crossbar arrays of non-volatile memories to perform Vector-Matrix Multiplications (VMMs) in-situ, i.e., in the memory where the matrix is stored, reducing the need of data movement and eliminating the von Neumann bottleneck. \n",
    "The VMM operation is one of the fundamental operations in the workload of neural networks, where vectors of activations are multiplied with arrays of weights. In analog crossbar implementations, the arrays of weights are programmed into memories and the vectors of activations are presented along the wordlines after being converted into analog values by arrays of DACs.\n",
    "As such, the computation is performed in analog fashion and requires peripheral circuitry to interface with other digital elements. Once the multiplication is carried out in the analog domain in a fully parallel fashion, the sum-of-products produced on the bitlines are converted into digital values using ADCs for further propagation down the network. The figure below shows the general architecture of a crossbar array along with zoomed-in illustrations of the resistive memory cell and ADC circuitry.\n",
    "\n",
    "| ![Crossbar architecture](https://github.com/AbinandN/aihwkit/blob/master/notebooks/examples/imgs/xbar.png?raw=1) |\n",
    "|:--:| \n",
    "| **(a) General Architecture of a Crossbar array with illustrations of (b) synaptic device and (c) ADC circuitry** (Reference: https://www.researchgate.net/publication/328091629_Memristor-based_Deep_Convolution_Neural_Network_A_Case_Study) |\n",
    " \n",
    "The strength of the in-memory analog computing lies in the use of the non-volatile memory crossbar architecture to fully parallelize VMM (with a boost in operations per second) while decreasing the need of data movement (giving a significant reduction of the energy needed to run the array). \n",
    "However, analog computations introduce non-idealitites and trade-offs that could impact the accuracy of neural networks.\n",
    "\n",
    "In a crossbar array, the weights are stored in synaptic devices called Resistive Processing Units (RPUs), which model analog memory cells. A two-dimensional array of RPUs makes up an Analog Tile in the toolkit.\n",
    "\n",
    "This notebook studies the sensitivity of a crossbar implementation of a LeNet5 network trained on the MNIST dataset for handwritten digit recognition to a range of non-idealities introduced by the peripheral circuits and choice of synaptic device."
   ]
  },
  {
   "cell_type": "markdown",
   "id": "6ceeef0d",
   "metadata": {},
   "source": [
    "The first thing to do is to install `aihwkit` and its dependencies in your environment. The preferred way to install this package is by using the Python package index (please uncomment this line to install in your environment if not previously installed):"
   ]
  },
  {
   "cell_type": "code",
   "execution_count": null,
   "id": "e123eb3e",
   "metadata": {},
   "outputs": [],
   "source": [
    "# To install the cpu-only enabled kit, uncommend the line below\n",
    "#pip install aihwkit\n",
    "\n",
    "# To install the gpu enabled wheel, use the commands below\n",
    "\n",
    "!wget https://aihwkit-gpu-demo.s3.us-east.cloud-object-storage.appdomain.cloud/aihwkit-0.4.5-cp37-cp37m-manylinux2014_x86_64.whl\n",
    "!pip install aihwkit-0.4.5-cp37-cp37m-manylinux2014_x86_64.whl"
   ]
  },
  {
   "cell_type": "markdown",
   "id": "010731ce",
   "metadata": {},
   "source": [
    "If the library was installed correctly, you can use the following snippet for creating an analog layer and predicting the output:"
   ]
  },
  {
   "cell_type": "code",
   "execution_count": 1,
   "id": "733f7fcc",
   "metadata": {},
   "outputs": [
    {
     "data": {
      "text/plain": [
       "tensor([[ 0.1722, -0.3277],\n",
       "        [-0.0161, -0.3747]], grad_fn=<AddBackward0>)"
      ]
     },
     "execution_count": 1,
     "metadata": {},
     "output_type": "execute_result"
    }
   ],
   "source": [
    "from torch import Tensor\n",
    "from aihwkit.nn import AnalogLinear\n",
    "\n",
    "model = AnalogLinear(2, 2)\n",
    "model(Tensor([[0.1, 0.2], [0.3, 0.4]]))"
   ]
  },
  {
   "cell_type": "markdown",
   "id": "64ffe519",
   "metadata": {},
   "source": [
    "Now, let's set the correct plotting backend depending on the runtime."
   ]
  },
  {
   "cell_type": "code",
   "execution_count": 2,
   "id": "75e14414",
   "metadata": {},
   "outputs": [],
   "source": [
    "# if jupyter\n",
    "# %matplotlib notebook\n",
    "\n",
    "# if Google colab etc\n",
    "%matplotlib inline"
   ]
  },
  {
   "cell_type": "markdown",
   "id": "0f10e8bf",
   "metadata": {},
   "source": [
    "Now that the package is installed and running, we can start with the experiments. We begin by importing the necessary libraries, defining the global settings and hyperparameters, and defining the helper functions required for our experiments."
   ]
  },
  {
   "cell_type": "code",
   "execution_count": 3,
   "id": "3f8af527",
   "metadata": {
    "slideshow": {
     "slide_type": "skip"
    }
   },
   "outputs": [],
   "source": [
    "# Imports and Helper Functions\n",
    "import os\n",
    "from datetime import datetime\n",
    "from IPython.display import display, clear_output\n",
    "import ipywidgets as widgets\n",
    "\n",
    "import matplotlib.pyplot as plt\n",
    "import numpy as np\n",
    "\n",
    "# Imports from PyTorch.\n",
    "import torch\n",
    "from torch import nn\n",
    "from torchvision import datasets, transforms\n",
    "\n",
    "# Imports from aihwkit.\n",
    "from aihwkit.nn import AnalogConv2d, AnalogLinear, AnalogSequential\n",
    "from aihwkit.nn.conversion import convert_to_analog\n",
    "from aihwkit.optim import AnalogSGD\n",
    "from torch.optim import SGD\n",
    "from aihwkit.simulator.configs import FloatingPointRPUConfig, SingleRPUConfig, UnitCellRPUConfig, InferenceRPUConfig, DigitalRankUpdateRPUConfig\n",
    "from aihwkit.simulator.configs.devices import *\n",
    "from aihwkit.simulator.configs.utils import PulseType\n",
    "from aihwkit.simulator.rpu_base import cuda\n",
    "from aihwkit.inference import BaseNoiseModel, PCMLikeNoiseModel, StateIndependentNoiseModel\n",
    "from aihwkit.inference import GlobalDriftCompensation\n",
    "\n",
    "USE_CUDA = 0\n",
    "if torch.cuda.is_available():\n",
    "    USE_CUDA = 1\n",
    "DEVICE = torch.device('cuda' if USE_CUDA else 'cpu')\n",
    "plt.style.use('ggplot')\n",
    "\n",
    "# Path to store datasets\n",
    "PATH_DATASET = os.path.join('data', 'DATASET')\n",
    "\n",
    "# Training parameters\n",
    "SEED = 1\n",
    "N_EPOCHS = 5\n",
    "BATCH_SIZE = 8\n",
    "LEARNING_RATE = 0.01\n",
    "N_CLASSES = 10\n",
    "\n",
    "\n",
    "def load_images(bs):\n",
    "    \"\"\"Load images for train from torchvision datasets.\n",
    "    \n",
    "    Args:\n",
    "        bs (int): batchsize\n",
    "    \"\"\"\n",
    "\n",
    "    transform = transforms.Compose([transforms.ToTensor()])\n",
    "    train_set = datasets.MNIST(PATH_DATASET, download=True, train=True, transform=transform)\n",
    "    val_set = datasets.MNIST(PATH_DATASET, download=True, train=False, transform=transform)\n",
    "    train_data = torch.utils.data.DataLoader(train_set, batch_size=bs, shuffle=True)\n",
    "    validation_data = torch.utils.data.DataLoader(val_set, batch_size=bs, shuffle=False)\n",
    "\n",
    "    return train_data, validation_data\n",
    "\n",
    "def create_digital_optimizer(model, learning_rate):\n",
    "    \"\"\"Create the conventional \"digital\" optimizer.\n",
    "\n",
    "    Args:\n",
    "        model (nn.Module): model to be trained\n",
    "        learning_rate (float): global parameter to define learning rate\n",
    "\n",
    "    Returns:\n",
    "        nn.Module: SGD optimizer\n",
    "    \"\"\"\n",
    "    optimizer = SGD(model.parameters(), lr=learning_rate)\n",
    "    \n",
    "    return optimizer\n",
    "\n",
    "def create_analog_optimizer(model, learning_rate):\n",
    "    \"\"\"Create the analog-aware optimizer.\n",
    "\n",
    "    Args:\n",
    "        model (nn.Module): model to be trained\n",
    "        learning_rate (float): global parameter to define learning rate\n",
    "\n",
    "    Returns:\n",
    "        nn.Module: Analog optimizer\n",
    "    \"\"\"\n",
    "    optimizer = AnalogSGD(model.parameters(), lr=learning_rate)\n",
    "    optimizer.regroup_param_groups(model)\n",
    "\n",
    "    return optimizer\n",
    "\n",
    "\n",
    "def train_step(train_data, model, criterion, optimizer):\n",
    "    \"\"\"Train network.\n",
    "\n",
    "    Args:\n",
    "        train_data (DataLoader): Validation set to perform the evaluation\n",
    "        model (nn.Module): Trained model to be evaluated\n",
    "        criterion (nn.CrossEntropyLoss): criterion to compute loss\n",
    "        optimizer (Optimizer): analog model optimizer\n",
    "\n",
    "    Returns:\n",
    "        nn.Module, nn.Module, float:  model, optimizer and loss for per epoch\n",
    "    \"\"\"\n",
    "    total_loss = 0\n",
    "\n",
    "    model.train()\n",
    "\n",
    "    for images, labels in train_data:\n",
    "        images = images.to(DEVICE)\n",
    "        labels = labels.to(DEVICE)\n",
    "        optimizer.zero_grad()\n",
    "\n",
    "        # Add training Tensor to the model (input).\n",
    "        output = model(images)\n",
    "        loss = criterion(output, labels)\n",
    "\n",
    "        # Run training (backward propagation).\n",
    "        loss.backward()\n",
    "\n",
    "        # Optimize weights.\n",
    "        optimizer.step()\n",
    "        total_loss += loss.item() * images.size(0)\n",
    "    epoch_loss = total_loss / len(train_data.dataset)\n",
    "\n",
    "    return model, optimizer, epoch_loss\n",
    "\n",
    "\n",
    "def test_evaluation(validation_data, model, criterion):\n",
    "    \"\"\"Test trained network.\n",
    "\n",
    "    Args:\n",
    "        validation_data (DataLoader): Validation set to perform the evaluation\n",
    "        model (nn.Module): Trained model to be evaluated\n",
    "        criterion (nn.CrossEntropyLoss): criterion to compute loss\n",
    "\n",
    "    Returns:\n",
    "        nn.Module, float, float, float:  model, loss, error, and accuracy\n",
    "    \"\"\"\n",
    "    total_loss = 0\n",
    "    predicted_ok = 0\n",
    "    total_images = 0\n",
    "\n",
    "    model.eval()\n",
    "\n",
    "    for images, labels in validation_data:\n",
    "        images = images.to(DEVICE)\n",
    "        labels = labels.to(DEVICE)\n",
    "\n",
    "        pred = model(images)\n",
    "        loss = criterion(pred, labels)\n",
    "        total_loss += loss.item() * images.size(0)\n",
    "\n",
    "        _, predicted = torch.max(pred.data, 1)\n",
    "        total_images += labels.size(0)\n",
    "        predicted_ok += (predicted == labels).sum().item()\n",
    "        accuracy = predicted_ok/total_images*100\n",
    "        error = (1-predicted_ok/total_images)*100\n",
    "\n",
    "    epoch_loss = total_loss / len(validation_data.dataset)\n",
    "\n",
    "    return model, epoch_loss, error, accuracy\n",
    "\n",
    "\n",
    "def training_loop(model, criterion, optimizer, train_data, validation_data, epochs, fig, print_every=1):\n",
    "    \"\"\"Training loop.\n",
    "\n",
    "    Args:\n",
    "        model (nn.Module): Trained model to be evaluated\n",
    "        criterion (nn.CrossEntropyLoss): criterion to compute loss\n",
    "        optimizer (Optimizer): analog model optimizer\n",
    "        train_data (DataLoader): Validation set to perform the evaluation\n",
    "        validation_data (DataLoader): Validation set to perform the evaluation\n",
    "        epochs (int): global parameter to define epochs number\n",
    "        print_every (int): defines how many times to print training progress\n",
    "\n",
    "    Returns:\n",
    "        nn.Module, Optimizer, Tuple: model, optimizer,\n",
    "            and a tuple of train losses, validation losses, and test\n",
    "            error\n",
    "    \"\"\"\n",
    "    train_losses = []\n",
    "    valid_losses = []\n",
    "    test_error = []\n",
    "\n",
    "    # Train model\n",
    "    for epoch in range(0, epochs):\n",
    "        # Train_step\n",
    "        model, optimizer, train_loss = train_step(train_data, model, criterion, optimizer)\n",
    "        train_losses.append(train_loss)\n",
    "\n",
    "        # Validate_step\n",
    "        with torch.no_grad():\n",
    "            model, valid_loss, error, accuracy = test_evaluation(\n",
    "                validation_data, model, criterion)\n",
    "            valid_losses.append(valid_loss)\n",
    "            test_error.append(error)\n",
    "            \n",
    "        plt.clf()\n",
    "        plt.gca().set_prop_cycle(None)\n",
    "        plt.plot(range(1, epoch+2), train_losses, marker=\"o\", label=\"Training\")\n",
    "        plt.plot(range(1, epoch+2), valid_losses, marker=\"o\", label=\"Validation\")\n",
    "        plt.gca().set_prop_cycle(None)\n",
    "        plt.plot(epoch+1, train_losses[-1], marker=\"o\", markersize=10)\n",
    "        plt.plot(epoch+1, valid_losses[-1], marker=\"o\", markersize=10)\n",
    "        plt.xlim([0.5, epochs+0.5])\n",
    "        plt.ylim([0, max(train_losses)+0.25])\n",
    "        plt.xticks(range(1, epochs+2))\n",
    "        plt.xlabel(\"Epoch\")\n",
    "        plt.ylabel(\"Loss\")\n",
    "        plt.legend()\n",
    "        fig.canvas.draw()\n",
    "\n",
    "    return model, optimizer, (train_losses, valid_losses, test_error)\n",
    "\n",
    "def create_analog_network(rpu_config):\n",
    "    \"\"\"Return a LeNet5 inspired analog model.\"\"\"\n",
    "    channel = [16, 32, 512, 128]\n",
    "    model = AnalogSequential(\n",
    "        AnalogConv2d(in_channels=1, out_channels=channel[0], kernel_size=5, stride=1,\n",
    "                     rpu_config=rpu_config),\n",
    "        nn.Tanh(),\n",
    "        nn.MaxPool2d(kernel_size=2),\n",
    "        AnalogConv2d(in_channels=channel[0], out_channels=channel[1], kernel_size=5, stride=1,\n",
    "                     rpu_config=rpu_config),\n",
    "        nn.Tanh(),\n",
    "        nn.MaxPool2d(kernel_size=2),\n",
    "        nn.Tanh(),\n",
    "        nn.Flatten(),\n",
    "        AnalogLinear(in_features=channel[2], out_features=channel[3], rpu_config=rpu_config),\n",
    "        nn.Tanh(),\n",
    "        AnalogLinear(in_features=channel[3], out_features=N_CLASSES, rpu_config=rpu_config),\n",
    "        nn.LogSoftmax(dim=1)\n",
    "    )\n",
    "\n",
    "    return model\n",
    "\n"
   ]
  },
  {
   "cell_type": "markdown",
   "id": "07eca256",
   "metadata": {
    "slideshow": {
     "slide_type": "slide"
    }
   },
   "source": [
    "## Baseline : Training Digital LeNet5\n",
    "\n",
    "We begin by defining and training a conventional \"digital\" LeNet5 network on the MNIST task, which will act as the accuracy baseline for our experiments with analog inference, retraining and training."
   ]
  },
  {
   "cell_type": "code",
   "execution_count": 4,
   "id": "740b5e7e",
   "metadata": {
    "slideshow": {
     "slide_type": "fragment"
    }
   },
   "outputs": [
    {
     "data": {
      "application/vnd.jupyter.widget-view+json": {
       "model_id": "234ee47fcd304532a291c7643623a46f",
       "version_major": 2,
       "version_minor": 0
      },
      "text/plain": [
       "IntSlider(value=5, continuous_update=False, description='Epochs:', max=30, min=1)"
      ]
     },
     "metadata": {},
     "output_type": "display_data"
    },
    {
     "data": {
      "application/vnd.jupyter.widget-view+json": {
       "model_id": "e3f3ff7c477c4ba699319d3d2efaf543",
       "version_major": 2,
       "version_minor": 0
      },
      "text/plain": [
       "IntSlider(value=100, continuous_update=False, description='Batchsize:', min=10, step=10)"
      ]
     },
     "metadata": {},
     "output_type": "display_data"
    }
   ],
   "source": [
    "epochss = widgets.IntSlider(value=5, min=1, max=30, step=1, description='Epochs:', disabled=False, continuous_update=False, orientation='horizontal', readout=True, readout_format='d')\n",
    "batchsizes = widgets.IntSlider(value=100, min=10, max=100, step=10, description='Batchsize:', disabled=False, continuous_update=False, orientation='horizontal', readout=True, readout_format='d')\n",
    "display(epochss)\n",
    "display(batchsizes)"
   ]
  },
  {
   "cell_type": "code",
   "execution_count": 5,
   "id": "b20a8801",
   "metadata": {
    "slideshow": {
     "slide_type": "fragment"
    }
   },
   "outputs": [
    {
     "data": {
      "image/png": "[encoded data removed]",
      "text/plain": [
       "<Figure size 750x600 with 1 Axes>"
      ]
     },
     "metadata": {},
     "output_type": "display_data"
    }
   ],
   "source": [
    "epochs = epochss.value\n",
    "batchsize = batchsizes.value\n",
    "def create_digital_network():\n",
    "    channel = [16, 32, 512, 128]\n",
    "    model = nn.Sequential(\n",
    "        nn.Conv2d(in_channels=1, out_channels=channel[0], kernel_size=5, stride=1),\n",
    "        nn.ReLU(),\n",
    "        nn.MaxPool2d(kernel_size=2),\n",
    "        nn.Conv2d(in_channels=channel[0], out_channels=channel[1], kernel_size=5, stride=1),\n",
    "        nn.ReLU(),\n",
    "        nn.MaxPool2d(kernel_size=2),\n",
    "        nn.ReLU(),\n",
    "        nn.Flatten(),\n",
    "        nn.Linear(in_features=channel[2], out_features=channel[3]),\n",
    "        nn.ReLU(),\n",
    "        nn.Linear(in_features=channel[3], out_features=N_CLASSES),\n",
    "        nn.LogSoftmax(dim=1)\n",
    "    )\n",
    "\n",
    "    return model\n",
    "\n",
    "\n",
    "train_data, validation_data = load_images(batchsize)\n",
    "\n",
    "# Prepare the model.\n",
    "dmodel = create_digital_network()\n",
    "dmodel.to(DEVICE)\n",
    "\n",
    "optimizer = create_digital_optimizer(dmodel, LEARNING_RATE)\n",
    "\n",
    "criterion = nn.CrossEntropyLoss()\n",
    "\n",
    "fig = plt.figure(figsize=(5, 4), dpi=150)\n",
    "dmodel, optimizer, _ = training_loop(dmodel, criterion, optimizer, train_data, validation_data, epochs, fig)\n",
    "plt.show()\n"
   ]
  },
  {
   "cell_type": "code",
   "execution_count": 6,
   "id": "30588194",
   "metadata": {
    "slideshow": {
     "slide_type": "fragment"
    }
   },
   "outputs": [
    {
     "name": "stdout",
     "output_type": "stream",
     "text": [
      "Accuracy of the digital model: 96.66%\n"
     ]
    }
   ],
   "source": [
    "dmodel, _, _, digital_accuracy = test_evaluation(validation_data, dmodel, criterion)\n",
    "print(f\"Accuracy of the digital model: {digital_accuracy:.2f}%\")"
   ]
  },
  {
   "cell_type": "markdown",
   "id": "14ceee0f",
   "metadata": {
    "slideshow": {
     "slide_type": "slide"
    }
   },
   "source": [
    "## Experiment 1: Analog Inference\n",
    "\n",
    "As a preliminary experiment, we perform \"analog\" inference of the previously trained digital LeNet with a floating point synaptic device model, while ignoring the non-idealities of peripheral circuits. We do this using the `FloatingPointRPUConfig`, which performs the computation of the analog tiles in full floating point precision while ignoring all non-idealities."
   ]
  },
  {
   "cell_type": "code",
   "execution_count": 7,
   "id": "d0b885ff",
   "metadata": {
    "slideshow": {
     "slide_type": "fragment"
    }
   },
   "outputs": [
    {
     "name": "stdout",
     "output_type": "stream",
     "text": [
      "AnalogSequential(\n",
      "  (0): AnalogConv2d(1, 16, kernel_size=(5, 5), stride=(1, 1), digital bias)\n",
      "  (1): ReLU()\n",
      "  (2): MaxPool2d(kernel_size=2, stride=2, padding=0, dilation=1, ceil_mode=False)\n",
      "  (3): AnalogConv2d(16, 32, kernel_size=(5, 5), stride=(1, 1), digital bias)\n",
      "  (4): ReLU()\n",
      "  (5): MaxPool2d(kernel_size=2, stride=2, padding=0, dilation=1, ceil_mode=False)\n",
      "  (6): ReLU()\n",
      "  (7): Flatten(start_dim=1, end_dim=-1)\n",
      "  (8): AnalogLinear(in_features=512, out_features=128, bias=True, digital bias)\n",
      "  (9): ReLU()\n",
      "  (10): AnalogLinear(in_features=128, out_features=10, bias=True, digital bias)\n",
      "  (11): LogSoftmax(dim=1)\n",
      ")\n"
     ]
    }
   ],
   "source": [
    "rpu_config = FloatingPointRPUConfig(device=FloatingPointDevice())\n",
    "amodel = convert_to_analog(dmodel, rpu_config)\n",
    "print(amodel)"
   ]
  },
  {
   "cell_type": "code",
   "execution_count": 8,
   "id": "34425850",
   "metadata": {
    "slideshow": {
     "slide_type": "fragment"
    }
   },
   "outputs": [
    {
     "name": "stdout",
     "output_type": "stream",
     "text": [
      "Accuracy of the analog model: 96.66%\n",
      "Accuracy degradation: 0.00%\n"
     ]
    }
   ],
   "source": [
    "amodel, _, _, accuracy = test_evaluation(validation_data, amodel, criterion)\n",
    "print(f\"Accuracy of the analog model: {accuracy:.2f}%\")\n",
    "print(f\"Accuracy degradation: {digital_accuracy-accuracy:.2f}%\")"
   ]
  },
  {
   "cell_type": "markdown",
   "id": "fdf3ea57",
   "metadata": {
    "slideshow": {
     "slide_type": "slide"
    }
   },
   "source": [
    "## Experiment 2: Parameters of Analog Inference\n",
    "\n",
    "In this experiment, we introduce a few of the non-idealities involved in analog inference. Experimenting with different settings for these factors shows the clear impact of analog inference on accuracy. We use the `InferenceRPUConfig`, which incorporates the non-idealities during forward pass and performs update and backward passes without any non-idealities."
   ]
  },
  {
   "cell_type": "code",
   "execution_count": 9,
   "id": "adeab806",
   "metadata": {
    "scrolled": true,
    "slideshow": {
     "slide_type": "fragment"
    }
   },
   "outputs": [
    {
     "data": {
      "application/vnd.jupyter.widget-view+json": {
       "model_id": "d13ccf097650489284d33d683e54d551",
       "version_major": 2,
       "version_minor": 0
      },
      "text/plain": [
       "Dropdown(description='Noise model:', options=('PCMLikeNoiseModel', 'StateIndependentNoiseModel'), value='PCMLi…"
      ]
     },
     "metadata": {},
     "output_type": "display_data"
    },
    {
     "data": {
      "application/vnd.jupyter.widget-view+json": {
       "model_id": "90b038d162c443edb12cf669de0190ed",
       "version_major": 2,
       "version_minor": 0
      },
      "text/plain": [
       "FloatLogSlider(value=1000.0, description='Drift time:', max=10.0, step=1.0)"
      ]
     },
     "metadata": {},
     "output_type": "display_data"
    },
    {
     "data": {
      "application/vnd.jupyter.widget-view+json": {
       "model_id": "1d86ffdef08941a79374f9bd7fe44a10",
       "version_major": 2,
       "version_minor": 0
      },
      "text/plain": [
       "HBox(children=(SelectionSlider(continuous_update=False, description='DAC steps:', index=5, options=(2, 4, 8, 1…"
      ]
     },
     "metadata": {},
     "output_type": "display_data"
    },
    {
     "data": {
      "application/vnd.jupyter.widget-view+json": {
       "model_id": "a4fc5f0b7142468d8ee3dcbeb760f7f2",
       "version_major": 2,
       "version_minor": 0
      },
      "text/plain": [
       "HBox(children=(SelectionSlider(continuous_update=False, description='ADC steps:', index=5, options=(2, 4, 8, 1…"
      ]
     },
     "metadata": {},
     "output_type": "display_data"
    }
   ],
   "source": [
    "devices = widgets.Dropdown(\n",
    "    options=['FloatingPointDevice', 'ConstantStepDevice', 'LinearStepDevice', 'IdealDevice', 'PulsedDevice', 'UnitCell', 'DigitalRankUpdateCell'],\n",
    "    value='FloatingPointDevice',\n",
    "    description='Device:',\n",
    "    disabled=False,\n",
    ")\n",
    "configs = widgets.Dropdown(\n",
    "    options=['FloatingPointRPUConfig', 'SingleRPUConfig', 'UnitCellRPUConfig', 'InferenceRPUConfig', 'DigitalRankUpdateRPUConfig'],\n",
    "    value='FloatingPointRPUConfig',\n",
    "    description='Config:',\n",
    "    disabled=False,\n",
    ")\n",
    "noise = widgets.Dropdown(\n",
    "    options=['PCMLikeNoiseModel', 'StateIndependentNoiseModel'],\n",
    "    value='PCMLikeNoiseModel',\n",
    "    description='Noise model:',\n",
    "    disabled=False,\n",
    ")\n",
    "DAC = widgets.SelectionSlider(options=[2**i for i in range(1, 11)], value=2**6, description='DAC steps:', disabled=False, continuous_update=False, orientation='horizontal', readout=True)\n",
    "DACRnd = widgets.Checkbox(value=False, description='Stochastic Rounding', disabled=False, indent=False)\n",
    "DACns = widgets.FloatSlider(value=0, min=0, max=1, step=.01, description='DAC noise:', disabled=False, continuous_update=False, orientation='horizontal', readout=True, readout_format='.2f')\n",
    "ADC = widgets.SelectionSlider(options=[2**i for i in range(1, 11)], value=2**6, description='ADC steps:', disabled=False, continuous_update=False, orientation='horizontal', readout=True)\n",
    "ADCRnd = widgets.Checkbox(value=False, description='Stochastic Rounding', disabled=False, indent=False)\n",
    "ADCns = widgets.FloatSlider(value=0, min=0, max=1, step=.01, description='ADC noise:', disabled=False, continuous_update=False, orientation='horizontal', readout=True, readout_format='.2f')\n",
    "time = widgets.FloatLogSlider(value=1000, base=10, min=0, max=10, step=1, description='Drift time:')\n",
    "display(noise)\n",
    "display(time)\n",
    "display(widgets.HBox([DAC, DACRnd, DACns]))\n",
    "display(widgets.HBox([ADC, ADCRnd, ADCns]))\n",
    "deviceClasses = [FloatingPointDevice, ConstantStepDevice, LinearStepDevice, IdealDevice, PulsedDevice, UnitCell, DigitalRankUpdateCell]\n",
    "configClasses = [FloatingPointRPUConfig, SingleRPUConfig, UnitCellRPUConfig, InferenceRPUConfig, DigitalRankUpdateRPUConfig]\n",
    "noiseClasses = [PCMLikeNoiseModel, StateIndependentNoiseModel]\n",
    "device_map = {devices.options[i]: deviceClasses[i] for i in range(len(deviceClasses))}\n",
    "config_map = {configs.options[i]: configClasses[i] for i in range(len(configClasses))}\n",
    "noise_map = {noise.options[i]: noiseClasses[i] for i in range(len(noiseClasses))}"
   ]
  },
  {
   "cell_type": "code",
   "execution_count": 10,
   "id": "776ee92a",
   "metadata": {
    "scrolled": true,
    "slideshow": {
     "slide_type": "fragment"
    }
   },
   "outputs": [
    {
     "name": "stdout",
     "output_type": "stream",
     "text": [
      "Accuracy of the analog model: 91.49%\n",
      "Accuracy degradation: 5.17%\n"
     ]
    }
   ],
   "source": [
    "rpu_config = InferenceRPUConfig()\n",
    "rpu_config.forward.inp_res = DAC.value# if DAC.value > 0 else -1\n",
    "rpu_config.forward.inp_sto_round = DACRnd.value\n",
    "rpu_config.forward.inp_noise = DACns.value\n",
    "rpu_config.forward.out_res = ADC.value# if DAC.value > 0 else -1\n",
    "rpu_config.forward.out_sto_round = ADCRnd.value\n",
    "rpu_config.forward.out_noise = ADCns.value\n",
    "rpu_config.noise_model = noise_map[noise.value]()\n",
    "rpu_config.drift_compensation = GlobalDriftCompensation()\n",
    "\n",
    "amodel = convert_to_analog(dmodel, rpu_config)\n",
    "amodel.eval()\n",
    "amodel.program_analog_weights()\n",
    "amodel.drift_analog_weights(time.value)\n",
    "amodel, _, _, accuracy = test_evaluation(validation_data, amodel, criterion)\n",
    "print(f\"Accuracy of the analog model: {accuracy:.2f}%\")\n",
    "print(f\"Accuracy degradation: {digital_accuracy-accuracy:.2f}%\")"
   ]
  },
  {
   "cell_type": "markdown",
   "id": "d83444af",
   "metadata": {
    "slideshow": {
     "slide_type": "slide"
    }
   },
   "source": [
    "## Experiment 3: Parameter Sweep\n",
    "\n",
    "In this experiment, we perform sweeps of the different non-idealitiy settings introduced in the previous experiment and visualize the impact of analog inference on accuracy."
   ]
  },
  {
   "cell_type": "code",
   "execution_count": 11,
   "id": "97b7783a",
   "metadata": {
    "slideshow": {
     "slide_type": "fragment"
    }
   },
   "outputs": [
    {
     "data": {
      "application/vnd.jupyter.widget-view+json": {
       "model_id": "d13ccf097650489284d33d683e54d551",
       "version_major": 2,
       "version_minor": 0
      },
      "text/plain": [
       "Dropdown(description='Noise model:', options=('PCMLikeNoiseModel', 'StateIndependentNoiseModel'), value='PCMLi…"
      ]
     },
     "metadata": {},
     "output_type": "display_data"
    },
    {
     "data": {
      "application/vnd.jupyter.widget-view+json": {
       "model_id": "90b038d162c443edb12cf669de0190ed",
       "version_major": 2,
       "version_minor": 0
      },
      "text/plain": [
       "FloatLogSlider(value=1000.0, description='Drift time:', max=10.0, step=1.0)"
      ]
     },
     "metadata": {},
     "output_type": "display_data"
    },
    {
     "data": {
      "application/vnd.jupyter.widget-view+json": {
       "model_id": "ad43835f880241c1b1e13e011590c861",
       "version_major": 2,
       "version_minor": 0
      },
      "text/plain": [
       "HBox(children=(SelectionSlider(continuous_update=False, description='DAC steps:', index=5, options=(2, 4, 8, 1…"
      ]
     },
     "metadata": {},
     "output_type": "display_data"
    },
    {
     "data": {
      "application/vnd.jupyter.widget-view+json": {
       "model_id": "761c08b581824cd99888cb75e1b73033",
       "version_major": 2,
       "version_minor": 0
      },
      "text/plain": [
       "HBox(children=(SelectionSlider(continuous_update=False, description='ADC steps:', index=5, options=(2, 4, 8, 1…"
      ]
     },
     "metadata": {},
     "output_type": "display_data"
    },
    {
     "data": {
      "application/vnd.jupyter.widget-view+json": {
       "model_id": "14a9884675aa4728aa09ebb1873add88",
       "version_major": 2,
       "version_minor": 0
      },
      "text/plain": [
       "HBox(children=(Dropdown(description='Sweep:', index=2, options=('DAC: steps', 'DAC: SR', 'DAC: noise', 'ADC: s…"
      ]
     },
     "metadata": {},
     "output_type": "display_data"
    }
   ],
   "source": [
    "params = widgets.Dropdown(\n",
    "    options=['DAC: steps', 'DAC: SR', 'DAC: noise', 'ADC: steps', 'ADC: SR', 'ADC: noise', 'Programming Noise Model', 'Drift time'],\n",
    "    value='DAC: noise',\n",
    "    description='Sweep:',\n",
    "    disabled=False,\n",
    ")\n",
    "lock = widgets.Checkbox(value=False, description='Lock ADC and DAC', disabled=False, indent=False)\n",
    "\n",
    "display(noise)\n",
    "display(time)\n",
    "display(widgets.HBox([DAC, DACRnd, DACns]))\n",
    "display(widgets.HBox([ADC, ADCRnd, ADCns]))\n",
    "display(widgets.HBox([params, lock]))\n"
   ]
  },
  {
   "cell_type": "code",
   "execution_count": 12,
   "id": "7529fe55",
   "metadata": {
    "slideshow": {
     "slide_type": "fragment"
    }
   },
   "outputs": [
    {
     "data": {
      "application/vnd.jupyter.widget-view+json": {
       "model_id": "6c0ff19aee24472799100d70e3b9d89b",
       "version_major": 2,
       "version_minor": 0
      },
      "text/plain": [
       "FloatSlider(value=0.0, continuous_update=False, description='DAC noise:', max=1.0, step=0.01)"
      ]
     },
     "metadata": {},
     "output_type": "display_data"
    },
    {
     "data": {
      "image/png": "[encoded data removed]",
      "text/plain": [
       "<Figure size 750x600 with 1 Axes>"
      ]
     },
     "metadata": {},
     "output_type": "display_data"
    }
   ],
   "source": [
    "wdgts = [DAC, DACRnd, DACns, ADC, ADCRnd, ADCns, noise, time]\n",
    "wdgtsL = [ADC, ADCRnd, ADCns, DAC, DACRnd, DACns, noise, time]\n",
    "sweeps = [[2**i for i in range(1, 11)], [False, True], [i/10 for i in range(0, 11)], [2**i for i in range(1, 11)], [False, True], [i/10 for i in range(0, 11)], ['PCMLikeNoiseModel', 'StateIndependentNoiseModel'], [10.0**i for i in range(11)]]\n",
    "wdgt_map = {params.options[i]: wdgts[i] for i in range(len(wdgts))}\n",
    "wdgtL_map = {params.options[i]: wdgtsL[i] for i in range(len(wdgts))}\n",
    "sweep_map = {params.options[i]: sweeps[i] for i in range(len(sweeps))}\n",
    "param = wdgt_map[params.value]\n",
    "paramL = wdgtL_map[params.value]\n",
    "sweep = sweep_map[params.value]\n",
    "\n",
    "acc = np.zeros(len(sweep))\n",
    "if lock.value and (params.value not in ['Programming Noise Model', 'Drift time']):\n",
    "    display(widgets.HBox([param, paramL]))\n",
    "else:\n",
    "    display(param)\n",
    "fig = plt.figure(figsize=(5, 4), dpi=150)\n",
    "\n",
    "for i in range(len(sweep)):\n",
    "    val = sweep[i]\n",
    "    param.value = val\n",
    "    if lock.value:\n",
    "        paramL.value = val\n",
    "    rpu_config = InferenceRPUConfig()\n",
    "    rpu_config.forward.inp_res = DAC.value\n",
    "    rpu_config.forward.inp_sto_round = DACRnd.value\n",
    "    rpu_config.forward.inp_noise = DACns.value\n",
    "    rpu_config.forward.out_res = ADC.value\n",
    "    rpu_config.forward.out_sto_round = ADCRnd.value\n",
    "    rpu_config.forward.out_noise = ADCns.value\n",
    "    rpu_config.noise_model = noise_map[noise.value]()\n",
    "    rpu_config.drift_compensation = GlobalDriftCompensation()\n",
    "\n",
    "\n",
    "    amodel = convert_to_analog(dmodel, rpu_config)\n",
    "    amodel.eval()\n",
    "    amodel.program_analog_weights()\n",
    "    amodel.drift_analog_weights(time.value)\n",
    "    amodel, _, _, accuracy = test_evaluation(validation_data, amodel, criterion)\n",
    "    acc[i] = accuracy\n",
    "    plt.gca().set_prop_cycle(None)\n",
    "    if params.value == 'Drift time':\n",
    "        plt.bar([r\"$10^{{{}}}$\".format(int(np.log10(j))) for j in sweep], acc, width=.8)\n",
    "        plt.hlines(digital_accuracy, r\"$10^{{{}}}$\".format(0), r\"$10^{{{}}}$\".format(10), linestyle=\"--\")\n",
    "    else:\n",
    "        plt.bar([str(j) for j in sweep], acc, width=.8)\n",
    "        plt.hlines(digital_accuracy, str(sweep[0]), str(sweep[-1]), linestyle=\"--\")\n",
    "    plt.ylim([min(acc)*.8, max(acc)*1.1])\n",
    "    plt.ylabel(\"Accuracy in %\")\n",
    "    plt.xlabel(param.description[:-1])\n",
    "    fig.canvas.draw()\n",
    "\n",
    "plt.show()\n"
   ]
  },
  {
   "cell_type": "markdown",
   "id": "9d47cad2",
   "metadata": {
    "slideshow": {
     "slide_type": "slide"
    }
   },
   "source": [
    "## Experiment 4: Analog-aware Retraining\n",
    "\n",
    "In this experiment, we perform analog-aware retraining of the digital LeNet model using the inference RPU configuration with the non-idealities of the peripheral circuitry in action. This experiment shows that with analog-aware retraining, accuracy degradation caused by analog non-idealities can be minimized. Please note that with the `InferenceRPUConfig`, the backward and update passes are performed without any non-idealities.\n",
    "\n",
    "Refer: https://aihwkit.readthedocs.io/en/latest/hwa_training.html"
   ]
  },
  {
   "cell_type": "code",
   "execution_count": 13,
   "id": "b2e6eca1",
   "metadata": {
    "slideshow": {
     "slide_type": "fragment"
    }
   },
   "outputs": [
    {
     "data": {
      "application/vnd.jupyter.widget-view+json": {
       "model_id": "d13ccf097650489284d33d683e54d551",
       "version_major": 2,
       "version_minor": 0
      },
      "text/plain": [
       "Dropdown(description='Noise model:', options=('PCMLikeNoiseModel', 'StateIndependentNoiseModel'), value='PCMLi…"
      ]
     },
     "metadata": {},
     "output_type": "display_data"
    },
    {
     "data": {
      "application/vnd.jupyter.widget-view+json": {
       "model_id": "b013682a4a5a46c5a8955bacdd5e0a81",
       "version_major": 2,
       "version_minor": 0
      },
      "text/plain": [
       "HBox(children=(SelectionSlider(continuous_update=False, description='DAC steps:', index=5, options=(2, 4, 8, 1…"
      ]
     },
     "metadata": {},
     "output_type": "display_data"
    },
    {
     "data": {
      "application/vnd.jupyter.widget-view+json": {
       "model_id": "39e9a186289d421284b35a63f6791b48",
       "version_major": 2,
       "version_minor": 0
      },
      "text/plain": [
       "HBox(children=(SelectionSlider(continuous_update=False, description='ADC steps:', index=5, options=(2, 4, 8, 1…"
      ]
     },
     "metadata": {},
     "output_type": "display_data"
    }
   ],
   "source": [
    "display(noise)\n",
    "display(widgets.HBox([DAC, DACRnd, DACns]))\n",
    "display(widgets.HBox([ADC, ADCRnd, ADCns]))"
   ]
  },
  {
   "cell_type": "code",
   "execution_count": 14,
   "id": "7950a348",
   "metadata": {
    "scrolled": true,
    "slideshow": {
     "slide_type": "fragment"
    }
   },
   "outputs": [
    {
     "name": "stdout",
     "output_type": "stream",
     "text": [
      "Accuracy of the analog model: 94.11%\n",
      "Accuracy degradation: 2.55%\n"
     ]
    },
    {
     "data": {
      "application/vnd.jupyter.widget-view+json": {
       "model_id": "234ee47fcd304532a291c7643623a46f",
       "version_major": 2,
       "version_minor": 0
      },
      "text/plain": [
       "IntSlider(value=5, continuous_update=False, description='Epochs:', max=30, min=1)"
      ]
     },
     "metadata": {},
     "output_type": "display_data"
    },
    {
     "data": {
      "application/vnd.jupyter.widget-view+json": {
       "model_id": "e3f3ff7c477c4ba699319d3d2efaf543",
       "version_major": 2,
       "version_minor": 0
      },
      "text/plain": [
       "IntSlider(value=100, continuous_update=False, description='Batchsize:', min=10, step=10)"
      ]
     },
     "metadata": {},
     "output_type": "display_data"
    }
   ],
   "source": [
    "rpu_config = InferenceRPUConfig()\n",
    "rpu_config.forward.inp_res = DAC.value\n",
    "rpu_config.forward.inp_sto_round = DACRnd.value\n",
    "rpu_config.forward.inp_noise = DACns.value\n",
    "rpu_config.forward.out_res = ADC.value\n",
    "rpu_config.forward.out_sto_round = ADCRnd.value\n",
    "rpu_config.forward.out_noise = ADCns.value\n",
    "rpu_config.noise_model = noise_map[noise.value]()\n",
    "rpu_config.drift_compensation = GlobalDriftCompensation()\n",
    "\n",
    "amodel = convert_to_analog(dmodel, rpu_config)\n",
    "amodel, _, _, accuracy = test_evaluation(validation_data, amodel, criterion)\n",
    "print(f\"Accuracy of the analog model: {accuracy:.2f}%\")\n",
    "print(f\"Accuracy degradation: {digital_accuracy-accuracy:.2f}%\")\n",
    "\n",
    "display(epochss)\n",
    "display(batchsizes)"
   ]
  },
  {
   "cell_type": "code",
   "execution_count": 15,
   "id": "00e8c71e",
   "metadata": {
    "slideshow": {
     "slide_type": "fragment"
    }
   },
   "outputs": [
    {
     "data": {
      "image/png": "[encoded data removed]",
      "text/plain": [
       "<Figure size 750x600 with 1 Axes>"
      ]
     },
     "metadata": {},
     "output_type": "display_data"
    },
    {
     "data": {
      "application/vnd.jupyter.widget-view+json": {
       "model_id": "90b038d162c443edb12cf669de0190ed",
       "version_major": 2,
       "version_minor": 0
      },
      "text/plain": [
       "FloatLogSlider(value=1000.0, description='Drift time:', max=10.0, step=1.0)"
      ]
     },
     "metadata": {},
     "output_type": "display_data"
    }
   ],
   "source": [
    "epochs = epochss.value\n",
    "batchsize = batchsizes.value\n",
    "\n",
    "train_data, validation_data = load_images(batchsize)\n",
    "amodel = convert_to_analog(dmodel, rpu_config)\n",
    "optimizer = create_analog_optimizer(amodel, LEARNING_RATE)\n",
    "\n",
    "fig = plt.figure(figsize=(5, 4), dpi=150)\n",
    "amodel, optimizer, _ = training_loop(amodel, criterion, optimizer, train_data, validation_data, epochs, fig)\n",
    "plt.show()\n",
    "\n",
    "display(time)"
   ]
  },
  {
   "cell_type": "code",
   "execution_count": 16,
   "id": "7791a20e",
   "metadata": {
    "slideshow": {
     "slide_type": "fragment"
    }
   },
   "outputs": [
    {
     "name": "stdout",
     "output_type": "stream",
     "text": [
      "Accuracy of the analog model: 95.09%\n",
      "Accuracy degradation: 1.57%\n"
     ]
    }
   ],
   "source": [
    "amodel.program_analog_weights()\n",
    "amodel.drift_analog_weights(time.value)\n",
    "amodel, _, _, accuracy = test_evaluation(validation_data, amodel, criterion)\n",
    "print(f\"Accuracy of the analog model: {accuracy:.2f}%\")\n",
    "print(f\"Accuracy degradation: {digital_accuracy-accuracy:.2f}%\")"
   ]
  },
  {
   "cell_type": "markdown",
   "id": "f27235dc",
   "metadata": {
    "slideshow": {
     "slide_type": "slide"
    }
   },
   "source": [
    "## Experiment 5: In-Analog Training\n",
    "\n",
    "In this experiment, we explore the impact of non-idealities when the neural network is trained on a crossbar-based analog hardware platform. Here the non-idealities impact forward, backward and update passes of the training process. We note that the settings explored here are a subset of the capabilities of `aihwkit`. For example, the simulator comes with a number of preset RPU configurations as described here: https://aihwkit.readthedocs.io/en/latest/analog_training_presets.html"
   ]
  },
  {
   "cell_type": "code",
   "execution_count": 17,
   "id": "b1f58682",
   "metadata": {
    "scrolled": true,
    "slideshow": {
     "slide_type": "fragment"
    }
   },
   "outputs": [
    {
     "data": {
      "application/vnd.jupyter.widget-view+json": {
       "model_id": "234ee47fcd304532a291c7643623a46f",
       "version_major": 2,
       "version_minor": 0
      },
      "text/plain": [
       "IntSlider(value=5, continuous_update=False, description='Epochs:', max=30, min=1)"
      ]
     },
     "metadata": {},
     "output_type": "display_data"
    },
    {
     "data": {
      "application/vnd.jupyter.widget-view+json": {
       "model_id": "e3f3ff7c477c4ba699319d3d2efaf543",
       "version_major": 2,
       "version_minor": 0
      },
      "text/plain": [
       "IntSlider(value=100, continuous_update=False, description='Batchsize:', min=10, step=10)"
      ]
     },
     "metadata": {},
     "output_type": "display_data"
    },
    {
     "data": {
      "application/vnd.jupyter.widget-view+json": {
       "model_id": "fa43e6c3312f43dd8002ec6a82074257",
       "version_major": 2,
       "version_minor": 0
      },
      "text/plain": [
       "SelectionSlider(continuous_update=False, description='Model init:', options=('From digital', 'From scratch'), …"
      ]
     },
     "metadata": {},
     "output_type": "display_data"
    },
    {
     "name": "stdout",
     "output_type": "stream",
     "text": [
      "RPU:\n"
     ]
    },
    {
     "data": {
      "application/vnd.jupyter.widget-view+json": {
       "model_id": "6a80450927b3482ba987a1f5f1aa61b1",
       "version_major": 2,
       "version_minor": 0
      },
      "text/plain": [
       "Dropdown(description='Device:', options=('FloatingPointDevice', 'ConstantStepDevice', 'LinearStepDevice', 'Ide…"
      ]
     },
     "metadata": {},
     "output_type": "display_data"
    },
    {
     "data": {
      "application/vnd.jupyter.widget-view+json": {
       "model_id": "8c95e05137de4b5c95f44f509d98932e",
       "version_major": 2,
       "version_minor": 0
      },
      "text/plain": [
       "Dropdown(description='Config:', options=('FloatingPointRPUConfig', 'SingleRPUConfig', 'UnitCellRPUConfig', 'In…"
      ]
     },
     "metadata": {},
     "output_type": "display_data"
    },
    {
     "name": "stdout",
     "output_type": "stream",
     "text": [
      "Forward:\n"
     ]
    },
    {
     "data": {
      "application/vnd.jupyter.widget-view+json": {
       "model_id": "c3aea9cd8bc240919f261af9d44994cc",
       "version_major": 2,
       "version_minor": 0
      },
      "text/plain": [
       "HBox(children=(SelectionSlider(continuous_update=False, description='DAC steps:', index=5, options=(2, 4, 8, 1…"
      ]
     },
     "metadata": {},
     "output_type": "display_data"
    },
    {
     "data": {
      "application/vnd.jupyter.widget-view+json": {
       "model_id": "d874735db93348a99f757a2e72c886c9",
       "version_major": 2,
       "version_minor": 0
      },
      "text/plain": [
       "HBox(children=(SelectionSlider(continuous_update=False, description='ADC steps:', index=5, options=(2, 4, 8, 1…"
      ]
     },
     "metadata": {},
     "output_type": "display_data"
    },
    {
     "name": "stdout",
     "output_type": "stream",
     "text": [
      "Backward:\n"
     ]
    },
    {
     "data": {
      "application/vnd.jupyter.widget-view+json": {
       "model_id": "571e874ac41e42b387c8aa7fd5c94d8a",
       "version_major": 2,
       "version_minor": 0
      },
      "text/plain": [
       "HBox(children=(SelectionSlider(continuous_update=False, description='DAC steps:', index=5, options=(2, 4, 8, 1…"
      ]
     },
     "metadata": {},
     "output_type": "display_data"
    },
    {
     "data": {
      "application/vnd.jupyter.widget-view+json": {
       "model_id": "283d68cb846844e49cddb46f7f59fa59",
       "version_major": 2,
       "version_minor": 0
      },
      "text/plain": [
       "HBox(children=(SelectionSlider(continuous_update=False, description='ADC steps:', index=5, options=(2, 4, 8, 1…"
      ]
     },
     "metadata": {},
     "output_type": "display_data"
    },
    {
     "name": "stdout",
     "output_type": "stream",
     "text": [
      "Update:\n"
     ]
    },
    {
     "data": {
      "application/vnd.jupyter.widget-view+json": {
       "model_id": "3d327df53463475b913bcd02c089b16b",
       "version_major": 2,
       "version_minor": 0
      },
      "text/plain": [
       "IntSlider(value=31, description='Pulse train length:', max=31, min=1)"
      ]
     },
     "metadata": {},
     "output_type": "display_data"
    },
    {
     "data": {
      "application/vnd.jupyter.widget-view+json": {
       "model_id": "a28d5d0750d24aea8b39e8babbc1eaa0",
       "version_major": 2,
       "version_minor": 0
      },
      "text/plain": [
       "Dropdown(description='Pulse type', options=('Stochastic', 'Mean count', 'Deterministic'), value='Stochastic')"
      ]
     },
     "metadata": {},
     "output_type": "display_data"
    }
   ],
   "source": [
    "mod = widgets.SelectionSlider(options=['From digital', 'From scratch'], value='From digital', description='Model init:', disabled=False, continuous_update=False, orientation='horizontal', readout=True)\n",
    "display(epochss)\n",
    "display(batchsizes)\n",
    "display(mod)\n",
    "\n",
    "print(\"RPU:\")\n",
    "display(devices)\n",
    "display(configs)\n",
    "print(\"Forward:\")\n",
    "display(widgets.HBox([DAC, DACRnd, DACns]))\n",
    "display(widgets.HBox([ADC, ADCRnd, ADCns]))\n",
    "print(\"Backward:\")\n",
    "bDAC = widgets.SelectionSlider(options=[2**i for i in range(1, 11)], value=2**6, description='DAC steps:', disabled=False, continuous_update=False, orientation='horizontal', readout=True)\n",
    "bDACRnd = widgets.Checkbox(value=False, description='Stochastic Rounding', disabled=False, indent=False)\n",
    "bDACns = widgets.FloatSlider(value=0, min=0, max=1, step=.01, description='DAC noise:', disabled=False, continuous_update=False, orientation='horizontal', readout=True, readout_format='.2f')\n",
    "bADC = widgets.SelectionSlider(options=[2**i for i in range(1, 11)], value=2**6, description='ADC steps:', disabled=False, continuous_update=False, orientation='horizontal', readout=True)\n",
    "bADCRnd = widgets.Checkbox(value=False, description='Stochastic Rounding', disabled=False, indent=False)\n",
    "bADCns = widgets.FloatSlider(value=0, min=0, max=1, step=.01, description='ADC noise:', disabled=False, continuous_update=False, orientation='horizontal', readout=True, readout_format='.2f')\n",
    "\n",
    "display(widgets.HBox([bDAC, bDACRnd, bDACns]))\n",
    "display(widgets.HBox([bADC, bADCRnd, bADCns]))\n",
    "\n",
    "print('Update:')\n",
    "desired_bl = widgets.IntSlider(value=31, min=1, max=31, step=1, description='Pulse train length:')\n",
    "pulse = widgets.Dropdown(options=['Stochastic', 'Mean count', 'Deterministic'], value='Stochastic', description='Pulse type')\n",
    "pulses = [PulseType.STOCHASTIC_COMPRESSED, PulseType.MEAN_COUNT, PulseType.DETERMINISTIC_IMPLICIT]\n",
    "pulse_map = {pulse.options[i]:pulses[i] for i in range(len(pulses))}\n",
    "\n",
    "display(desired_bl)\n",
    "display(pulse)"
   ]
  },
  {
   "cell_type": "code",
   "execution_count": 19,
   "id": "5b5c2515",
   "metadata": {
    "slideshow": {
     "slide_type": "fragment"
    }
   },
   "outputs": [
    {
     "name": "stdout",
     "output_type": "stream",
     "text": [
      "Accuracy of the analog model: 93.89%\n",
      "Accuracy degradation: 2.77%\n"
     ]
    },
    {
     "data": {
      "image/png": "[encoded data removed]",
      "text/plain": [
       "<Figure size 750x600 with 1 Axes>"
      ]
     },
     "metadata": {},
     "output_type": "display_data"
    }
   ],
   "source": [
    "device = device_map[devices.value]\n",
    "config = config_map[configs.value]\n",
    "rpu_config = config(device=device())\n",
    "rpu_config.drift_compensation = GlobalDriftCompensation()\n",
    "\n",
    "rpu_config.forward.inp_res = DAC.value\n",
    "rpu_config.forward.inp_sto_round = DACRnd.value\n",
    "rpu_config.forward.inp_noise = DACns.value\n",
    "rpu_config.forward.out_res = ADC.value\n",
    "rpu_config.forward.out_sto_round = ADCRnd.value\n",
    "rpu_config.forward.out_noise = ADCns.value\n",
    "\n",
    "rpu_config.backward.inp_res = bDAC.value\n",
    "rpu_config.backward.inp_sto_round = bDACRnd.value\n",
    "rpu_config.backward.inp_noise = bDACns.value\n",
    "rpu_config.backward.out_res = bADC.value\n",
    "rpu_config.backward.out_sto_round = bADCRnd.value\n",
    "rpu_config.backward.out_noise = bADCns.value\n",
    "\n",
    "rpu_config.update.desired_bl = desired_bl.value\n",
    "rpu_config.update.pulse_type = pulse_map[pulse.value]\n",
    "\n",
    "epochs = epochss.value\n",
    "batchsize = batchsizes.value\n",
    "\n",
    "train_data, validation_data = load_images(batchsize)\n",
    "\n",
    "if mod.value == 'From digital':\n",
    "    amodel = convert_to_analog(dmodel, rpu_config)\n",
    "else:\n",
    "    amodel = create_analog_network(rpu_config).to(DEVICE)\n",
    "\n",
    "optimizer = create_analog_optimizer(amodel, LEARNING_RATE)\n",
    "\n",
    "if mod.value == 'From digital':\n",
    "    amodel, _, _, accuracy = test_evaluation(validation_data, amodel, criterion)\n",
    "    print(f\"Accuracy of the analog model: {accuracy:.2f}%\")\n",
    "    print(f\"Accuracy degradation: {digital_accuracy-accuracy:.2f}%\")\n",
    "\n",
    "fig = plt.figure(figsize=(5, 4), dpi=150)\n",
    "amodel, optimizer, _ = training_loop(amodel, criterion, optimizer, train_data, validation_data, epochs, fig)\n",
    "plt.show()\n"
   ]
  },
  {
   "cell_type": "code",
   "execution_count": 20,
   "id": "8444f95f",
   "metadata": {
    "slideshow": {
     "slide_type": "fragment"
    }
   },
   "outputs": [
    {
     "name": "stdout",
     "output_type": "stream",
     "text": [
      "Accuracy of the analog model: 95.88%\n",
      "Accuracy degradation: 0.78%\n"
     ]
    }
   ],
   "source": [
    "amodel, _, _, accuracy = test_evaluation(validation_data, amodel, criterion)\n",
    "print(f\"Accuracy of the analog model: {accuracy:.2f}%\")\n",
    "if mod.value == 'From digital':\n",
    "    print(f\"Accuracy degradation: {digital_accuracy-accuracy:.2f}%\")"
   ]
  },
  {
   "cell_type": "markdown",
   "id": "00435d6e",
   "metadata": {},
   "source": [
    "**Acknowledgement**: This work was supported by the US Department of Energy Office of Science under the Microelectronics Co-Design Research program."
   ]
  }
 ],
 "metadata": {
  "@webio": {
   "lastCommId": null,
   "lastKernelId": null
  },
  "celltoolbar": "Slideshow",
  "interpreter": {
   "hash": "a24e3050b7661a470f98f936da6c79a9df99933256f82e80de72c7fdbcd73071"
  },
  "kernelspec": {
   "display_name": "Python 3 (ipykernel)",
   "language": "python",
   "name": "python3"
  },
  "language_info": {
   "codemirror_mode": {
    "name": "ipython",
    "version": 3
   },
   "file_extension": ".py",
   "mimetype": "text/x-python",
   "name": "python",
   "nbconvert_exporter": "python",
   "pygments_lexer": "ipython3",
   "version": "3.10.4"
  },
  "rise": {
   "scroll": true,
   "transition": "convex"
  }
 },
 "nbformat": 4,
 "nbformat_minor": 5
}
