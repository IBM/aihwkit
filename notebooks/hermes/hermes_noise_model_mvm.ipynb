{
 "cells": [
  {
   "cell_type": "markdown",
   "metadata": {
    "id": "3S0YWetZ-a2m"
   },
   "source": [
    "# IBM Analog Hardware Acceleration Kit (AIHWKIT): MVM using noise models characterized on the IBM HERMES Project Chip\n",
    "\n",
    "Le Gallo, M., Khaddam-Aljameh, R., Stanisavljevic, M. et al. A 64-core mixed-signal in-memory compute chip based on phase-change memory for deep neural network inference. Nat Electron 6, 680–693 (2023). https://doi.org/10.1038/s41928-023-01010-1"
   ]
  },
  {
   "cell_type": "code",
   "execution_count": null,
   "metadata": {
    "cellView": "form",
    "id": "8dRBAFI2xcEK",
    "tags": [
     "hide-input"
    ]
   },
   "outputs": [],
   "source": [
    "# %%\n",
    "import os\n",
    "\n",
    "import matplotlib.pyplot as plt\n",
    "import numpy as np\n",
    "import torch\n",
    "\n",
    "from aihwkit.inference.noise.hermes import HermesNoiseModel\n",
    "from aihwkit.inference.noise.pcm import PCMLikeNoiseModel\n",
    "from aihwkit.simulator.configs import BoundManagementType, NoiseManagementType, WeightNoiseType\n",
    "from aihwkit.inference.compensation.drift import PerColumnDriftCompensation\n",
    "from aihwkit.simulator.presets import StandardHWATrainingPreset\n",
    "from aihwkit.simulator.tiles import InferenceTile\n",
    "\n",
    "\n",
    "# Generate a sparse uniform tensor\n",
    "def generate_random_tensor_with_zeros(shape, sparsity=0.3):\n",
    "    total_elements = torch.prod(torch.tensor(shape))\n",
    "    num_zeros = int(total_elements * sparsity)\n",
    "\n",
    "    # Generate a tensor from a uniform distribution\n",
    "    tensor = torch.rand(shape) * 2 - 1.0\n",
    "\n",
    "    # Randomly choose indices to set to zero\n",
    "    zero_indices = torch.randperm(total_elements)[:num_zeros]\n",
    "\n",
    "    # Set the chosen indices to zero\n",
    "    tensor.view(-1)[zero_indices] = 0\n",
    "\n",
    "    return tensor\n",
    "\n",
    "\n",
    "# Perform an MVM with an ideal RPUConfig except for I/O quant and noise model\n",
    "def perform_noisy_mvm(inputs, weights, noise_model, t_inf):\n",
    "    rows, cols = weights.shape\n",
    "\n",
    "    # Initialize an rpu config without ANY noise\n",
    "    rpu_config = StandardHWATrainingPreset()\n",
    "    rpu_config.forward.bound_management = BoundManagementType.NONE\n",
    "    rpu_config.forward.out_bound = 0\n",
    "    rpu_config.forward.w_noise = 0.00\n",
    "    rpu_config.forward.w_noise_type = WeightNoiseType.NONE\n",
    "    rpu_config.forward.ir_drop = 0.00\n",
    "    rpu_config.forward.out_noise = 0.0\n",
    "    rpu_config.forward.noise_management = NoiseManagementType.ABS_MAX\n",
    "\n",
    "    # Now add on the RPU config the 8-bit I/O\n",
    "    # and the selected noise model noise model\n",
    "    rpu_config.forward.inp_res = 254.0\n",
    "    rpu_config.forward.out_res = 254.0\n",
    "    rpu_config.noise_model = noise_model\n",
    "\n",
    "    analog_tile = InferenceTile(cols, rows, rpu_config)\n",
    "    analog_tile.eval()\n",
    "    analog_tile.set_weights(weights.T)\n",
    "\n",
    "    # Apply all noises\n",
    "    analog_tile.drift_weights(t_inference=t_inf)\n",
    "\n",
    "    # Perform MVM\n",
    "    output = analog_tile.forward(inputs)\n",
    "    return output\n",
    "\n",
    "\n",
    "def calculate_l2_error(y_target, y_measured):\n",
    "    l2_errors = torch.norm(y_measured - y_target, dim=1) / torch.norm(y_target, dim=1)\n",
    "    return l2_errors.mean()"
   ]
  },
  {
   "cell_type": "code",
   "execution_count": null,
   "metadata": {
    "id": "9m1qDEsd-C4H"
   },
   "outputs": [],
   "source": [
    "# Set seed and MVM/tile parameters\n",
    "torch.manual_seed(42)\n",
    "rows = 512\n",
    "cols = 512\n",
    "batch_size = 10_000\n",
    "t_inf = [0.0, 60.0, 3600.0, 86400, 2592000.0, 31104000.0]\n",
    "n_reps = 10\n",
    "\n",
    "# Define the noise models to compare\n",
    "noise_models = {\n",
    "    \"Standard\": PCMLikeNoiseModel(g_max=25.0),\n",
    "    \"Hermes SD\": HermesNoiseModel(num_devices=1),\n",
    "    \"Hermes TD\": HermesNoiseModel(num_devices=2),\n",
    "}\n",
    "\n",
    "# Generate the data and perform the ideal MVM\n",
    "inputs = generate_random_tensor_with_zeros((batch_size, rows), sparsity=0.5)\n",
    "weights = generate_random_tensor_with_zeros((rows, cols), sparsity=0.3)\n",
    "ideal_result = inputs @ weights\n",
    "\n",
    "# Iterate over the models and perform 10 MVMs\n",
    "mvm_precisions = {}\n",
    "fig, ax = plt.subplots()\n",
    "for model_n, model in noise_models.items():\n",
    "    mean_l2_errs_per_t = []\n",
    "    for t in t_inf:\n",
    "        l2_errs = torch.zeros(n_reps)\n",
    "        for i in range(n_reps):\n",
    "            result_noisy = perform_noisy_mvm(inputs, weights, model, t_inf=t)\n",
    "            l2_errs[i] = calculate_l2_error(ideal_result, result_noisy)\n",
    "        mean_l2_errs_per_t.append(l2_errs.mean().detach() * 100)\n",
    "\n",
    "    ax.plot(t_inf, mean_l2_errs_per_t, \"-d\", label=model_n)\n",
    "\n",
    "    ax.legend()\n",
    "    ax.set_xscale(\"log\")\n",
    "    ax.set_xlabel(\"Time of MVM\")\n",
    "    ax.set_ylabel(\"MVM error (%)\")"
   ]
  }
 ],
 "metadata": {
  "accelerator": "GPU",
  "colab": {
   "gpuType": "V100",
   "machine_shape": "hm",
   "provenance": []
  },
  "kernelspec": {
   "display_name": "Python 3 (ipykernel)",
   "language": "python",
   "name": "python3"
  },
  "language_info": {
   "codemirror_mode": {
    "name": "ipython",
    "version": 3
   },
   "file_extension": ".py",
   "mimetype": "text/x-python",
   "name": "python",
   "nbconvert_exporter": "python",
   "pygments_lexer": "ipython3",
   "version": "3.10.14"
  },
  "vscode": {
   "interpreter": {
    "hash": "8552d10987f98ef8320154686d1598142476aa8dfb1019e7b5164f51d5b1d29f"
   }
  }
 },
 "nbformat": 4,
 "nbformat_minor": 4
}
